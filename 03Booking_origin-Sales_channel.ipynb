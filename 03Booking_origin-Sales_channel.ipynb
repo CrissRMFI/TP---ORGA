{
 "cells": [
  {
   "cell_type": "code",
   "execution_count": null,
   "metadata": {},
   "outputs": [],
   "source": [
    "import pandas as pd\n",
    "import seaborn as sns\n",
    "import matplotlib.pyplot as plt\n",
    "\n",
    "\n",
    "airline = pd.read_csv(\"./customer_airways_data.csv\", encoding=\"iso-8859-1\")"
   ]
  },
  {
   "cell_type": "markdown",
   "metadata": {},
   "source": [
    "### Influencia del \"Booking_origin\" en \"Sales_channel\": ¿Los diferentes países de origen tienen preferencias por canales de venta específicos?"
   ]
  }
 ],
 "metadata": {
  "language_info": {
   "name": "python"
  }
 },
 "nbformat": 4,
 "nbformat_minor": 2
}
